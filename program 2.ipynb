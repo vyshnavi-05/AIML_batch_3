{
 "cells": [
  {
   "cell_type": "code",
   "execution_count": 1,
   "metadata": {},
   "outputs": [
    {
     "name": "stdout",
     "output_type": "stream",
     "text": [
      "    name  age  height  weight\n",
      "0  kiran   25     145      45\n",
      "1   ajay   30     151      55\n",
      "2  vijay   35     165      65\n",
      "3  varun   26     173      75\n"
     ]
    }
   ],
   "source": [
    "import pandas as pd\n",
    "people=['kiran','ajay','vijay','varun']\n",
    "age=[25,30,35,26]\n",
    "height=[145,151,165,173]\n",
    "weight=[45,55,65,75]\n",
    "data={\n",
    "    \"name\":people,\n",
    "    \"age\":age,\n",
    "    \"height\":height,\n",
    "    \"weight\":weight,\n",
    "}\n",
    "df=pd.DataFrame(data)\n",
    "print(df)"
   ]
  }
 ],
 "metadata": {
  "kernelspec": {
   "display_name": "Python 3 (ipykernel)",
   "language": "python",
   "name": "python3"
  }
 },
 "nbformat": 4,
 "nbformat_minor": 2
}
